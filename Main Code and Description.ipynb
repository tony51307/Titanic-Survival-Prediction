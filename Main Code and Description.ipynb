{
 "cells": [
  {
   "cell_type": "markdown",
   "metadata": {},
   "source": [
    "# Titanic Survival Prediction (Score: 0.8 Top 20%)\n",
    "from Kaggle: https://www.kaggle.com/c/titanic\n",
    "\n",
    "Challenge Description:\n",
    "\n",
    "The sinking of the Titanic is one of the most infamous shipwrecks in history.\n",
    "\n",
    "On April 15, 1912, during her maiden voyage, the widely considered “unsinkable” RMS Titanic sank after colliding with an iceberg. Unfortunately, there weren’t enough lifeboats for everyone onboard, resulting in the death of 1502 out of 2224 passengers and crew.\n",
    "\n",
    "While there was some element of luck involved in surviving, it seems some groups of people were more likely to survive than others.\n",
    "\n",
    "In this challenge, we ask you to build a predictive model that answers the question: “what sorts of people were more likely to survive?” using passenger data (ie name, age, gender, socio-economic class, etc)."
   ]
  },
  {
   "cell_type": "markdown",
   "metadata": {},
   "source": [
    "## Table of Content\n",
    "### 1. Explore the Dataset\n",
    "### 2. Handle Numeric Features\n",
    "### 3. Handle Categorical Features\n",
    "### 4. Model Selection and Evaluation\n",
    "### 5. Result"
   ]
  },
  {
   "cell_type": "markdown",
   "metadata": {},
   "source": [
    "In the following content, the overall summary for the training dataset will be discussed first to have basic understanding of the data. Next, each feature in the dataset will be examined to see whether it is suitable to be included in the predictive model. Lastly, proper model will be selected and will go through evaluation to ensure that the model can offer accuracy as high as possible. Eventually, the finalized model will be utilized to predict the result."
   ]
  },
  {
   "cell_type": "markdown",
   "metadata": {},
   "source": [
    "## 1. Explore the Dataset\n"
   ]
  },
  {
   "cell_type": "code",
   "execution_count": 1,
   "metadata": {},
   "outputs": [
    {
     "name": "stdout",
     "output_type": "stream",
     "text": [
      "<class 'pandas.core.frame.DataFrame'>\n",
      "RangeIndex: 891 entries, 0 to 890\n",
      "Data columns (total 12 columns):\n",
      " #   Column       Non-Null Count  Dtype  \n",
      "---  ------       --------------  -----  \n",
      " 0   PassengerId  891 non-null    int64  \n",
      " 1   Survived     891 non-null    int64  \n",
      " 2   Pclass       891 non-null    int64  \n",
      " 3   Name         891 non-null    object \n",
      " 4   Sex          891 non-null    object \n",
      " 5   Age          714 non-null    float64\n",
      " 6   SibSp        891 non-null    int64  \n",
      " 7   Parch        891 non-null    int64  \n",
      " 8   Ticket       891 non-null    object \n",
      " 9   Fare         891 non-null    float64\n",
      " 10  Cabin        204 non-null    object \n",
      " 11  Embarked     889 non-null    object \n",
      "dtypes: float64(2), int64(5), object(5)\n",
      "memory usage: 83.7+ KB\n"
     ]
    }
   ],
   "source": [
    "# import needed packages\n",
    "import pandas as pd\n",
    "import numpy as np\n",
    "import copy\n",
    "from sklearn.impute import SimpleImputer\n",
    "from sklearn.model_selection import cross_val_score\n",
    "from sklearn.ensemble import RandomForestClassifier\n",
    "from sklearn.preprocessing import LabelEncoder, MinMaxScaler\n",
    "from sklearn.linear_model import LogisticRegression\n",
    "import seaborn as sns\n",
    "import matplotlib.pyplot as plt\n",
    "import scipy.stats as stats\n",
    "\n",
    "train_df=pd.read_csv('train.csv')\n",
    "train_df.info()"
   ]
  },
  {
   "cell_type": "markdown",
   "metadata": {},
   "source": [
    "The feautures can be classified into:\n",
    "1. Categorical Data: PassengerId, Survived, Pclass, Name, Sex, Ticket, Cabin, and Embarked\n",
    "2. Numeric Data: Age, SibSp, Parch, and Fare "
   ]
  },
  {
   "cell_type": "code",
   "execution_count": 2,
   "metadata": {},
   "outputs": [
    {
     "data": {
      "text/html": [
       "<div>\n",
       "<style scoped>\n",
       "    .dataframe tbody tr th:only-of-type {\n",
       "        vertical-align: middle;\n",
       "    }\n",
       "\n",
       "    .dataframe tbody tr th {\n",
       "        vertical-align: top;\n",
       "    }\n",
       "\n",
       "    .dataframe thead th {\n",
       "        text-align: right;\n",
       "    }\n",
       "</style>\n",
       "<table border=\"1\" class=\"dataframe\">\n",
       "  <thead>\n",
       "    <tr style=\"text-align: right;\">\n",
       "      <th></th>\n",
       "      <th>PassengerId</th>\n",
       "      <th>Survived</th>\n",
       "      <th>Pclass</th>\n",
       "      <th>Age</th>\n",
       "      <th>SibSp</th>\n",
       "      <th>Parch</th>\n",
       "      <th>Fare</th>\n",
       "    </tr>\n",
       "  </thead>\n",
       "  <tbody>\n",
       "    <tr>\n",
       "      <th>count</th>\n",
       "      <td>891.000000</td>\n",
       "      <td>891.000000</td>\n",
       "      <td>891.000000</td>\n",
       "      <td>714.000000</td>\n",
       "      <td>891.000000</td>\n",
       "      <td>891.000000</td>\n",
       "      <td>891.000000</td>\n",
       "    </tr>\n",
       "    <tr>\n",
       "      <th>mean</th>\n",
       "      <td>446.000000</td>\n",
       "      <td>0.383838</td>\n",
       "      <td>2.308642</td>\n",
       "      <td>29.699118</td>\n",
       "      <td>0.523008</td>\n",
       "      <td>0.381594</td>\n",
       "      <td>32.204208</td>\n",
       "    </tr>\n",
       "    <tr>\n",
       "      <th>std</th>\n",
       "      <td>257.353842</td>\n",
       "      <td>0.486592</td>\n",
       "      <td>0.836071</td>\n",
       "      <td>14.526497</td>\n",
       "      <td>1.102743</td>\n",
       "      <td>0.806057</td>\n",
       "      <td>49.693429</td>\n",
       "    </tr>\n",
       "    <tr>\n",
       "      <th>min</th>\n",
       "      <td>1.000000</td>\n",
       "      <td>0.000000</td>\n",
       "      <td>1.000000</td>\n",
       "      <td>0.420000</td>\n",
       "      <td>0.000000</td>\n",
       "      <td>0.000000</td>\n",
       "      <td>0.000000</td>\n",
       "    </tr>\n",
       "    <tr>\n",
       "      <th>25%</th>\n",
       "      <td>223.500000</td>\n",
       "      <td>0.000000</td>\n",
       "      <td>2.000000</td>\n",
       "      <td>20.125000</td>\n",
       "      <td>0.000000</td>\n",
       "      <td>0.000000</td>\n",
       "      <td>7.910400</td>\n",
       "    </tr>\n",
       "    <tr>\n",
       "      <th>50%</th>\n",
       "      <td>446.000000</td>\n",
       "      <td>0.000000</td>\n",
       "      <td>3.000000</td>\n",
       "      <td>28.000000</td>\n",
       "      <td>0.000000</td>\n",
       "      <td>0.000000</td>\n",
       "      <td>14.454200</td>\n",
       "    </tr>\n",
       "    <tr>\n",
       "      <th>75%</th>\n",
       "      <td>668.500000</td>\n",
       "      <td>1.000000</td>\n",
       "      <td>3.000000</td>\n",
       "      <td>38.000000</td>\n",
       "      <td>1.000000</td>\n",
       "      <td>0.000000</td>\n",
       "      <td>31.000000</td>\n",
       "    </tr>\n",
       "    <tr>\n",
       "      <th>max</th>\n",
       "      <td>891.000000</td>\n",
       "      <td>1.000000</td>\n",
       "      <td>3.000000</td>\n",
       "      <td>80.000000</td>\n",
       "      <td>8.000000</td>\n",
       "      <td>6.000000</td>\n",
       "      <td>512.329200</td>\n",
       "    </tr>\n",
       "  </tbody>\n",
       "</table>\n",
       "</div>"
      ],
      "text/plain": [
       "       PassengerId    Survived      Pclass         Age       SibSp  \\\n",
       "count   891.000000  891.000000  891.000000  714.000000  891.000000   \n",
       "mean    446.000000    0.383838    2.308642   29.699118    0.523008   \n",
       "std     257.353842    0.486592    0.836071   14.526497    1.102743   \n",
       "min       1.000000    0.000000    1.000000    0.420000    0.000000   \n",
       "25%     223.500000    0.000000    2.000000   20.125000    0.000000   \n",
       "50%     446.000000    0.000000    3.000000   28.000000    0.000000   \n",
       "75%     668.500000    1.000000    3.000000   38.000000    1.000000   \n",
       "max     891.000000    1.000000    3.000000   80.000000    8.000000   \n",
       "\n",
       "            Parch        Fare  \n",
       "count  891.000000  891.000000  \n",
       "mean     0.381594   32.204208  \n",
       "std      0.806057   49.693429  \n",
       "min      0.000000    0.000000  \n",
       "25%      0.000000    7.910400  \n",
       "50%      0.000000   14.454200  \n",
       "75%      0.000000   31.000000  \n",
       "max      6.000000  512.329200  "
      ]
     },
     "execution_count": 2,
     "metadata": {},
     "output_type": "execute_result"
    }
   ],
   "source": [
    "# Generate description for numeric features\n",
    "train_df.describe()"
   ]
  },
  {
   "cell_type": "code",
   "execution_count": 3,
   "metadata": {},
   "outputs": [
    {
     "data": {
      "text/html": [
       "<div>\n",
       "<style scoped>\n",
       "    .dataframe tbody tr th:only-of-type {\n",
       "        vertical-align: middle;\n",
       "    }\n",
       "\n",
       "    .dataframe tbody tr th {\n",
       "        vertical-align: top;\n",
       "    }\n",
       "\n",
       "    .dataframe thead th {\n",
       "        text-align: right;\n",
       "    }\n",
       "</style>\n",
       "<table border=\"1\" class=\"dataframe\">\n",
       "  <thead>\n",
       "    <tr style=\"text-align: right;\">\n",
       "      <th></th>\n",
       "      <th>Name</th>\n",
       "      <th>Sex</th>\n",
       "      <th>Ticket</th>\n",
       "      <th>Cabin</th>\n",
       "      <th>Embarked</th>\n",
       "    </tr>\n",
       "  </thead>\n",
       "  <tbody>\n",
       "    <tr>\n",
       "      <th>count</th>\n",
       "      <td>891</td>\n",
       "      <td>891</td>\n",
       "      <td>891</td>\n",
       "      <td>204</td>\n",
       "      <td>889</td>\n",
       "    </tr>\n",
       "    <tr>\n",
       "      <th>unique</th>\n",
       "      <td>891</td>\n",
       "      <td>2</td>\n",
       "      <td>681</td>\n",
       "      <td>147</td>\n",
       "      <td>3</td>\n",
       "    </tr>\n",
       "    <tr>\n",
       "      <th>top</th>\n",
       "      <td>Yasbeck, Mr. Antoni</td>\n",
       "      <td>male</td>\n",
       "      <td>1601</td>\n",
       "      <td>G6</td>\n",
       "      <td>S</td>\n",
       "    </tr>\n",
       "    <tr>\n",
       "      <th>freq</th>\n",
       "      <td>1</td>\n",
       "      <td>577</td>\n",
       "      <td>7</td>\n",
       "      <td>4</td>\n",
       "      <td>644</td>\n",
       "    </tr>\n",
       "  </tbody>\n",
       "</table>\n",
       "</div>"
      ],
      "text/plain": [
       "                       Name   Sex Ticket Cabin Embarked\n",
       "count                   891   891    891   204      889\n",
       "unique                  891     2    681   147        3\n",
       "top     Yasbeck, Mr. Antoni  male   1601    G6        S\n",
       "freq                      1   577      7     4      644"
      ]
     },
     "execution_count": 3,
     "metadata": {},
     "output_type": "execute_result"
    }
   ],
   "source": [
    "# Generate description for categorical features\n",
    "train_df.describe(include=['O'])"
   ]
  },
  {
   "cell_type": "markdown",
   "metadata": {},
   "source": [
    "The above tables offer the following observations:\n",
    "1. For the overall records, the survival rate is 38%\n",
    "2. Most passengers (>=50%) came without siblings, parents, or children.\n",
    "3. Over 75% of passengers are under 40s.\n",
    "4. Age, Embarked, and Cabin have empty values, which may influence the prediction.\n",
    "5. PassengerId, Tickets, Name, and Cabin may be dropped because they contain too many unique values.\n",
    "6. Most passengers (>=75%) paid for less than $40 for the trip."
   ]
  },
  {
   "cell_type": "markdown",
   "metadata": {},
   "source": [
    "## 2. Handle Numeric Data"
   ]
  },
  {
   "cell_type": "markdown",
   "metadata": {},
   "source": [
    "The numeric factors (Age, SibSp, Parch, and Fare) in the dataset will be examined to check whether they are suitable for prediction. Also, I may modify or create new features."
   ]
  },
  {
   "cell_type": "markdown",
   "metadata": {},
   "source": [
    "### Age"
   ]
  },
  {
   "cell_type": "markdown",
   "metadata": {},
   "source": [
    "In order to check the relationship between \"Age\"(numeric) and \"Survived\"(categorical), t-test is used to check whether Age values display siginificant difference between Survived and non-Survived passengers. Before running t-test, F-test have been proceeded to confirm the homogeneity of variance, which is a crucial assumption for running t-test. The resultant P-Value is higher than 0.05, meaning that the data fulfills homogeneity of variance. Therefore, t-test can be manipulated directly. \n",
    "\n",
    "Please kindly refer to my R script file for F-test result.\n",
    "<img src=\"Age_VS_Survived_F_test_Result.png\" alt=\"Drawing\" style=\"width: 500px;\"/>\n",
    "\n"
   ]
  },
  {
   "cell_type": "code",
   "execution_count": 4,
   "metadata": {},
   "outputs": [
    {
     "name": "stdout",
     "output_type": "stream",
     "text": [
      "======T-Test======\n",
      "H0: No siginificant difference in Age between Survived and non-Survived\n",
      "Ha: There is siginificant difference in Age between Survived and non-Survived\n",
      "T-Score: 3.534\n",
      "P-Value: 0.001\n",
      "Can reject null hypothesis.\n",
      "==================\n"
     ]
    }
   ],
   "source": [
    "# t-test to compare the average ages of survived passengers and non-survived ones\n",
    "t_score, p=stats.ttest_ind(train_df.dropna().loc[train_df[\"Survived\"]==0,\"Age\"],train_df.dropna().loc[train_df[\"Survived\"]==1,\"Age\"])\n",
    "\n",
    "print(\"======T-Test======\")\n",
    "\n",
    "print(\"H0: No siginificant difference in Age between Survived and non-Survived\")\n",
    "print(\"Ha: There is siginificant difference in Age between Survived and non-Survived\")\n",
    "print(\"T-Score: %.3f\" %t_score)\n",
    "print(\"P-Value: %.3f\" %p)\n",
    "if p>0.05:\n",
    "    print(\"Cannot reject null hypothesis.\")\n",
    "else:\n",
    "    print(\"Can reject null hypothesis.\")\n",
    "\n",
    "print(\"==================\")\n",
    "\n",
    "    "
   ]
  },
  {
   "cell_type": "markdown",
   "metadata": {},
   "source": [
    "As shown above, null hypothesis can be rejected to believe that there is difference between the average ages of Survived and non-Survived people. Therefore, \"Age\" can be included in prediction."
   ]
  },
  {
   "cell_type": "code",
   "execution_count": 5,
   "metadata": {},
   "outputs": [
    {
     "data": {
      "image/png": "[encoded data removed]",
      "text/plain": [
       "<Figure size 432x288 with 1 Axes>"
      ]
     },
     "metadata": {
      "needs_background": "light"
     },
     "output_type": "display_data"
    },
    {
     "data": {
      "text/plain": [
       "<seaborn.axisgrid.FacetGrid at 0x1a212b6a58>"
      ]
     },
     "execution_count": 5,
     "metadata": {},
     "output_type": "execute_result"
    },
    {
     "data": {
      "image/png": "[encoded data removed]",
      "text/plain": [
       "<Figure size 432x216 with 2 Axes>"
      ]
     },
     "metadata": {
      "needs_background": "light"
     },
     "output_type": "display_data"
    }
   ],
   "source": [
    "# visualize the distribution of ages\n",
    "plt.title(\"Passenger Age Distribution\")\n",
    "plt.hist(x=train_df['Age'].dropna(), bins=20)\n",
    "plt.xlabel('Age')\n",
    "plt.ylabel('Count')\n",
    "plt.show()\n",
    "g = sns.FacetGrid(train_df, col='Survived')\n",
    "g.map(plt.hist, 'Age', bins=20)"
   ]
  },
  {
   "cell_type": "markdown",
   "metadata": {},
   "source": [
    "The above graphs regarding \"Age\" offer the following observations:\n",
    "1. Large number of passengers are between 20s to 40s\n",
    "2. Passengers younger than 20s have higher survival rate.\n",
    "3. Oldest people (80s) survived. It may be explained by the fact that older people received a lot of caring at that time so that when the disaster happened, they were not ignored.\n",
    "\n",
    "The observations give the idea that \"Age\" may be cut into different categories for prediction."
   ]
  },
  {
   "cell_type": "markdown",
   "metadata": {},
   "source": [
    "### Parch and SibSp"
   ]
  },
  {
   "cell_type": "markdown",
   "metadata": {},
   "source": [
    "For \"Parch\" and \"SibSp\", because those two factors display 0 in most records (>=50%), it may be better to convert them into categorical data."
   ]
  },
  {
   "cell_type": "code",
   "execution_count": 6,
   "metadata": {},
   "outputs": [
    {
     "data": {
      "image/png": "[encoded data removed]",
      "text/plain": [
       "<Figure size 432x288 with 1 Axes>"
      ]
     },
     "metadata": {
      "needs_background": "light"
     },
     "output_type": "display_data"
    }
   ],
   "source": [
    "is_alone=[]\n",
    "\n",
    "# merge Parch and SibSp into \"is_alone\" feature\n",
    "# check whether the passanger came alone\n",
    "for x in range(len(train_df)):\n",
    "    if train_df.iloc[x,list(train_df.columns).index(\"Parch\")]==0 and train_df.iloc[x,list(train_df.columns).index(\"SibSp\")]==0:\n",
    "        is_alone.append(1)\n",
    "    else:\n",
    "        is_alone.append(0)\n",
    "        \n",
    "train_df[\"is_alone\"]=is_alone\n",
    "\n",
    "# calculate survival rate for each group\n",
    "group_df=train_df[[\"is_alone\",\"Survived\"]].groupby(\"is_alone\", as_index=False).agg(np.mean)\n",
    "\n",
    "# visualize the result\n",
    "sns.barplot(x=\"is_alone\", y=\"Survived\", data=group_df)\n",
    "plt.ylabel(\"Survival Rate\")\n",
    "plt.show()\n"
   ]
  },
  {
   "cell_type": "markdown",
   "metadata": {},
   "source": [
    "As shown above, there is clear difference in survival rate between being alone and not. This fact supports that I can contain this feature in the prediction."
   ]
  },
  {
   "cell_type": "markdown",
   "metadata": {},
   "source": [
    "### Fare"
   ]
  },
  {
   "cell_type": "markdown",
   "metadata": {},
   "source": [
    "The last numeric factors to be examined is \"Fare\". Let's first take a look at its distribution."
   ]
  },
  {
   "cell_type": "code",
   "execution_count": 7,
   "metadata": {},
   "outputs": [
    {
     "data": {
      "image/png": "[encoded data removed]",
      "text/plain": [
       "<Figure size 432x288 with 1 Axes>"
      ]
     },
     "metadata": {
      "needs_background": "light"
     },
     "output_type": "display_data"
    }
   ],
   "source": [
    "plt.title(\"Fare Distribution\")\n",
    "sns.distplot(train_df['Fare'])\n",
    "plt.show()"
   ]
  },
  {
   "cell_type": "markdown",
   "metadata": {},
   "source": [
    "As observed in the beginning (Most passengers (>=75%) paid for less than $40 for the trip.), the distribution of Fare is highly skewed. Skewedness may be fixed by implementing log scale."
   ]
  },
  {
   "cell_type": "code",
   "execution_count": 8,
   "metadata": {},
   "outputs": [
    {
     "data": {
      "image/png": "[encoded data removed]",
      "text/plain": [
       "<Figure size 432x288 with 1 Axes>"
      ]
     },
     "metadata": {
      "needs_background": "light"
     },
     "output_type": "display_data"
    }
   ],
   "source": [
    "# turn data into log scale\n",
    "train_df['log1p_Fare']=np.log1p(train_df['Fare'])\n",
    "plt.title(\"Fare Distribution\")\n",
    "sns.distplot(train_df['log1p_Fare'])\n",
    "plt.show()"
   ]
  },
  {
   "cell_type": "markdown",
   "metadata": {},
   "source": [
    "By using log scale, the problem of skewedness has been relieved. Then, the data can be allocated into different groups to compare survival rates."
   ]
  },
  {
   "cell_type": "code",
   "execution_count": 9,
   "metadata": {},
   "outputs": [
    {
     "data": {
      "image/png": "[encoded data removed]",
      "text/plain": [
       "<Figure size 432x288 with 1 Axes>"
      ]
     },
     "metadata": {
      "needs_background": "light"
     },
     "output_type": "display_data"
    }
   ],
   "source": [
    "# classify \"Fare\" into 5 groups. 1<2<3<4<5\n",
    "train_df[\"Fare_label\"]=pd.cut(train_df['log1p_Fare'],5, labels=[1, 2, 3, 4, 5])\n",
    "\n",
    "# calculate survival rate for each group\n",
    "group_df=train_df[[\"Fare_label\",\"Survived\"]].groupby(\"Fare_label\", as_index=False).agg(np.mean)\n",
    "\n",
    "# visualize the result\n",
    "sns.barplot(x=\"Fare_label\", y=\"Survived\", data=group_df)\n",
    "plt.ylabel(\"Survival Rate\")\n",
    "plt.show()"
   ]
  },
  {
   "cell_type": "markdown",
   "metadata": {},
   "source": [
    "The above graph supports that passengers who paid higher possess higher survival rate. Hence, the \"Fare\" feature could be included in the prediction."
   ]
  },
  {
   "cell_type": "markdown",
   "metadata": {},
   "source": [
    "## 3. Handle Categorical Data"
   ]
  },
  {
   "cell_type": "markdown",
   "metadata": {},
   "source": [
    "### Sex"
   ]
  },
  {
   "cell_type": "code",
   "execution_count": 10,
   "metadata": {},
   "outputs": [
    {
     "data": {
      "text/html": [
       "<div>\n",
       "<style scoped>\n",
       "    .dataframe tbody tr th:only-of-type {\n",
       "        vertical-align: middle;\n",
       "    }\n",
       "\n",
       "    .dataframe tbody tr th {\n",
       "        vertical-align: top;\n",
       "    }\n",
       "\n",
       "    .dataframe thead th {\n",
       "        text-align: right;\n",
       "    }\n",
       "</style>\n",
       "<table border=\"1\" class=\"dataframe\">\n",
       "  <thead>\n",
       "    <tr style=\"text-align: right;\">\n",
       "      <th></th>\n",
       "      <th>Sex</th>\n",
       "      <th>Survived</th>\n",
       "    </tr>\n",
       "  </thead>\n",
       "  <tbody>\n",
       "    <tr>\n",
       "      <th>0</th>\n",
       "      <td>female</td>\n",
       "      <td>0.742038</td>\n",
       "    </tr>\n",
       "    <tr>\n",
       "      <th>1</th>\n",
       "      <td>male</td>\n",
       "      <td>0.188908</td>\n",
       "    </tr>\n",
       "  </tbody>\n",
       "</table>\n",
       "</div>"
      ],
      "text/plain": [
       "      Sex  Survived\n",
       "0  female  0.742038\n",
       "1    male  0.188908"
      ]
     },
     "execution_count": 10,
     "metadata": {},
     "output_type": "execute_result"
    }
   ],
   "source": [
    "train_df[[\"Sex\",\"Survived\"]].groupby('Sex', as_index=False).agg(np.mean)"
   ]
  },
  {
   "cell_type": "markdown",
   "metadata": {},
   "source": [
    "The table displays strong difference. Female passengers acquire much higher survival rate than males. This could be attributed to the fact that the evacuation plan at that time was to let children and women leave the boat first. This feature could be crucial for the prediction."
   ]
  },
  {
   "cell_type": "markdown",
   "metadata": {},
   "source": [
    "### Pclass"
   ]
  },
  {
   "cell_type": "code",
   "execution_count": 11,
   "metadata": {},
   "outputs": [
    {
     "data": {
      "image/png": "[encoded data removed]",
      "text/plain": [
       "<Figure size 577.38x475.2 with 6 Axes>"
      ]
     },
     "metadata": {
      "needs_background": "light"
     },
     "output_type": "display_data"
    }
   ],
   "source": [
    "grid = sns.FacetGrid(train_df, col='Survived', row='Pclass', hue=\"Sex\", height=2.2, aspect=1.6)\n",
    "grid.map(plt.hist, 'Age', alpha=0.7, bins=20)\n",
    "grid.add_legend();\n",
    "plt.show()"
   ]
  },
  {
   "cell_type": "markdown",
   "metadata": {},
   "source": [
    "The above graphs offer the following observations:\n",
    "1. The survival rate in Pclass 3 is significantly high. This can be explained by the higher percentage of male passengers (the fact proved previously).\n",
    "2. Young child in Pclass 2 all survived.\n",
    "3. Pclass 1 has higher survival rate.\n",
    "4. Each Pclass has different age distribution.\n",
    "5. Pclass has relaionship with age and sex distribution, which have been proved to have certain level of correlation with survival rate.\n",
    "\n",
    "Based on the observations above, \"Pclass\" would be considered in the prediction."
   ]
  },
  {
   "cell_type": "markdown",
   "metadata": {},
   "source": [
    "### Embarked"
   ]
  },
  {
   "cell_type": "markdown",
   "metadata": {},
   "source": [
    "\"Embarked\" is examined by using the same graphs."
   ]
  },
  {
   "cell_type": "code",
   "execution_count": 12,
   "metadata": {},
   "outputs": [
    {
     "data": {
      "image/png": "[encoded data removed]",
      "text/plain": [
       "<Figure size 577.38x475.2 with 6 Axes>"
      ]
     },
     "metadata": {
      "needs_background": "light"
     },
     "output_type": "display_data"
    }
   ],
   "source": [
    "grid = sns.FacetGrid(train_df, col='Survived', row='Embarked', hue=\"Sex\", height=2.2, aspect=1.6)\n",
    "grid.map(plt.hist, 'Age', alpha=0.7,  bins=20)\n",
    "grid.add_legend();\n",
    "plt.show()"
   ]
  },
  {
   "cell_type": "code",
   "execution_count": 13,
   "metadata": {},
   "outputs": [
    {
     "data": {
      "text/html": [
       "<div>\n",
       "<style scoped>\n",
       "    .dataframe tbody tr th:only-of-type {\n",
       "        vertical-align: middle;\n",
       "    }\n",
       "\n",
       "    .dataframe tbody tr th {\n",
       "        vertical-align: top;\n",
       "    }\n",
       "\n",
       "    .dataframe thead th {\n",
       "        text-align: right;\n",
       "    }\n",
       "</style>\n",
       "<table border=\"1\" class=\"dataframe\">\n",
       "  <thead>\n",
       "    <tr style=\"text-align: right;\">\n",
       "      <th></th>\n",
       "      <th>Embarked</th>\n",
       "      <th>PassengerId</th>\n",
       "    </tr>\n",
       "  </thead>\n",
       "  <tbody>\n",
       "    <tr>\n",
       "      <th>0</th>\n",
       "      <td>C</td>\n",
       "      <td>168</td>\n",
       "    </tr>\n",
       "    <tr>\n",
       "      <th>1</th>\n",
       "      <td>Q</td>\n",
       "      <td>77</td>\n",
       "    </tr>\n",
       "    <tr>\n",
       "      <th>2</th>\n",
       "      <td>S</td>\n",
       "      <td>644</td>\n",
       "    </tr>\n",
       "  </tbody>\n",
       "</table>\n",
       "</div>"
      ],
      "text/plain": [
       "  Embarked  PassengerId\n",
       "0        C          168\n",
       "1        Q           77\n",
       "2        S          644"
      ]
     },
     "execution_count": 13,
     "metadata": {},
     "output_type": "execute_result"
    }
   ],
   "source": [
    "train_df.groupby(\"Embarked\", as_index=False)[\"PassengerId\"].agg(\"count\")"
   ]
  },
  {
   "cell_type": "markdown",
   "metadata": {},
   "source": [
    "According to the graphs above, the comparison among \"Embarked\", \"Age\", and \"Sex\" demonstrates the same phenomenon with \"Pclass\" (most people embarked from a certain portion, and female's survival rate is much higher than male's). However, the number of passengers (>70%) who emarked from port S is significantly larger than the numbers from the other two ports. Therefore, this feature may not be distinguishable enough for modeling. \n",
    "\n",
    "\"Embarked\" may not be included in the model training."
   ]
  },
  {
   "cell_type": "markdown",
   "metadata": {},
   "source": [
    "### Name, Ticket, Cabin, and PassengerId"
   ]
  },
  {
   "cell_type": "markdown",
   "metadata": {},
   "source": [
    "Cabin, Name, Ticket, and PassengerId may be dropped for the following reasons:\n",
    "1. Cabin values are extremely incomplete and have many duplicates across the sample. \n",
    "2. Name, PassengerId, and Ticket values are almost unique for each individual. It is hard to observe pattern when there are too many unique values."
   ]
  },
  {
   "cell_type": "markdown",
   "metadata": {},
   "source": [
    "## 4. Model Selection and Evaluation"
   ]
  },
  {
   "cell_type": "markdown",
   "metadata": {},
   "source": [
    "So far, the features that are confirmed to be used are \"Age\", \"Fare\", \"is_alone\", \"Sex\", \"Pclass\".\n",
    "\n",
    "Because the target feature is categorical (Boolean values), Logistic Regression and Random Forest Regression may be suitable models for prediction.\n",
    "\n",
    "Logistic Regression is a model specialized in dealing with binary variables. In this case, our result would need to be 0 or 1. Therefore, logistic Regression may be a useful model to predict the result.\n",
    "\n",
    "On the other hand, Random Forest Regression is the classification and regression models based on the idea of decision tree. Random Forest Regression would sensitive to the change of each feature and operate by running several prediction processes to have the most average result. Hence, as the target variable is categorical, it would be helpful to use Random Forest Regression to conduct classification. "
   ]
  },
  {
   "cell_type": "code",
   "execution_count": 14,
   "metadata": {},
   "outputs": [
    {
     "name": "stdout",
     "output_type": "stream",
     "text": [
      "Random Forest Accuracy: 0.814858\n",
      "Logistic Regression Accuracy: 0.783378\n"
     ]
    }
   ],
   "source": [
    "# extract numeric features\n",
    "LEncoder = LabelEncoder()\n",
    "MMEncoder = MinMaxScaler()\n",
    "train_x = train_df[[\"Age\",'log1p_Fare']].copy()\n",
    "train_y = train_df[\"Survived\"]\n",
    "imputer = SimpleImputer(strategy = 'median') # fill null with median values\n",
    "imputer.fit(train_x)\n",
    "train_x=imputer.transform(train_x)\n",
    "train_x = MMEncoder.fit_transform(train_x) # Standardized features\n",
    "train_x = pd.DataFrame(train_x, columns = ['Age','Fare'])\n",
    "\n",
    "# extract categorical features\n",
    "categorical = train_df[['is_alone','Sex','Pclass']].copy()\n",
    "categorical['Sex'] = LEncoder.fit_transform(categorical['Sex']) # encoding labels\n",
    "\n",
    "# merge features\n",
    "train_x = pd.concat([train_x,categorical],axis=1)\n",
    "# train the model\n",
    "estimator1 = RandomForestClassifier()\n",
    "estimator2 = LogisticRegression(max_iter=1000)\n",
    "accuracy1 = cross_val_score(estimator1, train_x, train_y, cv=5).mean()\n",
    "accuracy2 = cross_val_score(estimator2, train_x, train_y, cv=5).mean()\n",
    "\n",
    "print(\"Random Forest Accuracy: %f\" %accuracy1)\n",
    "print(\"Logistic Regression Accuracy: %f\" %accuracy2)"
   ]
  },
  {
   "cell_type": "markdown",
   "metadata": {},
   "source": [
    "As previous observation has suggested that Age values may be able to categorized, we may categorize the values and see if this action can improve the accuracy of the model."
   ]
  },
  {
   "cell_type": "code",
   "execution_count": 15,
   "metadata": {},
   "outputs": [
    {
     "name": "stdout",
     "output_type": "stream",
     "text": [
      "Random Forest Accuracy: 0.802517\n",
      "Logistic Regression Accuracy: 0.775570\n"
     ]
    }
   ],
   "source": [
    "temp_x=train_x.copy()\n",
    "temp_x.drop('Age', inplace = True, axis = 1)\n",
    "temp_x['Age_segment']=pd.cut(train_x['Age'],bins=4,labels=[1,2,3,4])\n",
    "\n",
    "accuracy1 = cross_val_score(estimator1, temp_x, train_y, cv=5).mean()\n",
    "accuracy2 = cross_val_score(estimator2, temp_x, train_y, cv=5).mean()\n",
    "\n",
    "print(\"Random Forest Accuracy: %f\" %accuracy1)\n",
    "print(\"Logistic Regression Accuracy: %f\" %accuracy2)\n"
   ]
  },
  {
   "cell_type": "markdown",
   "metadata": {},
   "source": [
    "As shown, the accuracy does not appear higher when Age values are categorized. Also, Random Forest generates higher accuracy than Logistic Regression. Hence, Random Forest will be used as the main model to predict."
   ]
  },
  {
   "cell_type": "markdown",
   "metadata": {},
   "source": [
    "But before proceeding to the final prediction, it may be a good idea to testify importance of each original features in the dataset. It may help identify the features that have been abandoned but possess strong importance in the prediction process."
   ]
  },
  {
   "cell_type": "code",
   "execution_count": 16,
   "metadata": {},
   "outputs": [
    {
     "data": {
      "text/html": [
       "<div>\n",
       "<style scoped>\n",
       "    .dataframe tbody tr th:only-of-type {\n",
       "        vertical-align: middle;\n",
       "    }\n",
       "\n",
       "    .dataframe tbody tr th {\n",
       "        vertical-align: top;\n",
       "    }\n",
       "\n",
       "    .dataframe thead th {\n",
       "        text-align: right;\n",
       "    }\n",
       "</style>\n",
       "<table border=\"1\" class=\"dataframe\">\n",
       "  <thead>\n",
       "    <tr style=\"text-align: right;\">\n",
       "      <th></th>\n",
       "      <th>PassengerId</th>\n",
       "      <th>Survived</th>\n",
       "      <th>Pclass</th>\n",
       "      <th>Name</th>\n",
       "      <th>Sex</th>\n",
       "      <th>Age</th>\n",
       "      <th>SibSp</th>\n",
       "      <th>Parch</th>\n",
       "      <th>Ticket</th>\n",
       "      <th>Fare</th>\n",
       "      <th>Cabin</th>\n",
       "      <th>Embarked</th>\n",
       "    </tr>\n",
       "  </thead>\n",
       "  <tbody>\n",
       "    <tr>\n",
       "      <th>0</th>\n",
       "      <td>0.000000</td>\n",
       "      <td>0.0</td>\n",
       "      <td>1.0</td>\n",
       "      <td>0.121348</td>\n",
       "      <td>1.0</td>\n",
       "      <td>0.283951</td>\n",
       "      <td>0.125</td>\n",
       "      <td>0.0</td>\n",
       "      <td>0.769118</td>\n",
       "      <td>0.014151</td>\n",
       "      <td>0.000000</td>\n",
       "      <td>1.000000</td>\n",
       "    </tr>\n",
       "    <tr>\n",
       "      <th>1</th>\n",
       "      <td>0.001124</td>\n",
       "      <td>1.0</td>\n",
       "      <td>0.0</td>\n",
       "      <td>0.213483</td>\n",
       "      <td>0.0</td>\n",
       "      <td>0.481481</td>\n",
       "      <td>0.125</td>\n",
       "      <td>0.0</td>\n",
       "      <td>0.876471</td>\n",
       "      <td>0.139136</td>\n",
       "      <td>0.557823</td>\n",
       "      <td>0.333333</td>\n",
       "    </tr>\n",
       "    <tr>\n",
       "      <th>2</th>\n",
       "      <td>0.002247</td>\n",
       "      <td>1.0</td>\n",
       "      <td>1.0</td>\n",
       "      <td>0.396629</td>\n",
       "      <td>0.0</td>\n",
       "      <td>0.333333</td>\n",
       "      <td>0.000</td>\n",
       "      <td>0.0</td>\n",
       "      <td>0.983824</td>\n",
       "      <td>0.015469</td>\n",
       "      <td>0.000000</td>\n",
       "      <td>1.000000</td>\n",
       "    </tr>\n",
       "    <tr>\n",
       "      <th>3</th>\n",
       "      <td>0.003371</td>\n",
       "      <td>1.0</td>\n",
       "      <td>0.0</td>\n",
       "      <td>0.305618</td>\n",
       "      <td>0.0</td>\n",
       "      <td>0.444444</td>\n",
       "      <td>0.125</td>\n",
       "      <td>0.0</td>\n",
       "      <td>0.072059</td>\n",
       "      <td>0.103644</td>\n",
       "      <td>0.380952</td>\n",
       "      <td>1.000000</td>\n",
       "    </tr>\n",
       "    <tr>\n",
       "      <th>4</th>\n",
       "      <td>0.004494</td>\n",
       "      <td>0.0</td>\n",
       "      <td>1.0</td>\n",
       "      <td>0.016854</td>\n",
       "      <td>1.0</td>\n",
       "      <td>0.444444</td>\n",
       "      <td>0.000</td>\n",
       "      <td>0.0</td>\n",
       "      <td>0.694118</td>\n",
       "      <td>0.015713</td>\n",
       "      <td>0.000000</td>\n",
       "      <td>1.000000</td>\n",
       "    </tr>\n",
       "  </tbody>\n",
       "</table>\n",
       "</div>"
      ],
      "text/plain": [
       "   PassengerId  Survived  Pclass      Name  Sex       Age  SibSp  Parch  \\\n",
       "0     0.000000       0.0     1.0  0.121348  1.0  0.283951  0.125    0.0   \n",
       "1     0.001124       1.0     0.0  0.213483  0.0  0.481481  0.125    0.0   \n",
       "2     0.002247       1.0     1.0  0.396629  0.0  0.333333  0.000    0.0   \n",
       "3     0.003371       1.0     0.0  0.305618  0.0  0.444444  0.125    0.0   \n",
       "4     0.004494       0.0     1.0  0.016854  1.0  0.444444  0.000    0.0   \n",
       "\n",
       "     Ticket      Fare     Cabin  Embarked  \n",
       "0  0.769118  0.014151  0.000000  1.000000  \n",
       "1  0.876471  0.139136  0.557823  0.333333  \n",
       "2  0.983824  0.015469  0.000000  1.000000  \n",
       "3  0.072059  0.103644  0.380952  1.000000  \n",
       "4  0.694118  0.015713  0.000000  1.000000  "
      ]
     },
     "execution_count": 16,
     "metadata": {},
     "output_type": "execute_result"
    }
   ],
   "source": [
    "# re-input and re-organized the training dataset\n",
    "temp_x = pd.read_csv('train.csv')\n",
    "for c in temp_x.columns:\n",
    "    temp_x[c] = temp_x[c].fillna(-1)\n",
    "    \n",
    "    # encoding categorical labels\n",
    "    if temp_x[c].dtype == 'object':\n",
    "        temp_x[c] = LEncoder.fit_transform(list(temp_x[c].values))\n",
    "    temp_x[c] = MMEncoder.fit_transform(temp_x[c].values.reshape(-1, 1))\n",
    "    \n",
    "temp_x.head()"
   ]
  },
  {
   "cell_type": "code",
   "execution_count": 17,
   "metadata": {},
   "outputs": [
    {
     "data": {
      "text/plain": [
       "Survived       0.718166\n",
       "Sex            0.113541\n",
       "Fare           0.029443\n",
       "Ticket         0.028657\n",
       "Cabin          0.028066\n",
       "Pclass         0.025050\n",
       "Name           0.015016\n",
       "Age            0.012879\n",
       "PassengerId    0.011768\n",
       "Parch          0.007686\n",
       "SibSp          0.005161\n",
       "Embarked       0.004567\n",
       "dtype: float64"
      ]
     },
     "execution_count": 17,
     "metadata": {},
     "output_type": "execute_result"
    }
   ],
   "source": [
    "# put the whole dataset into the Random Forest Model \n",
    "estimator = RandomForestClassifier()\n",
    "estimator.fit(temp_x.values, train_y)\n",
    "feats = pd.Series(data=estimator.feature_importances_, index=temp_x.columns) # display their importance\n",
    "feats = feats.sort_values(ascending=False)\n",
    "feats"
   ]
  },
  {
   "cell_type": "markdown",
   "metadata": {},
   "source": [
    "As seen, \"Ticket\" ranks high in terms of feature importance. Adding \"Ticket\" into the model may actually improve the accuracy."
   ]
  },
  {
   "cell_type": "code",
   "execution_count": 18,
   "metadata": {},
   "outputs": [
    {
     "name": "stdout",
     "output_type": "stream",
     "text": [
      "Random Forest Accuracy: 0.835051\n",
      "Logistic Regression Accuracy: 0.791250\n"
     ]
    }
   ],
   "source": [
    "# test adding \"Ticket\" in the model\n",
    "temp_x=train_x.copy()\n",
    "temp_x['Ticket']=LEncoder.fit_transform(train_df['Ticket']) # encoding labels\n",
    "accuracy1 = cross_val_score(estimator1, temp_x, train_y, cv=5).mean()\n",
    "accuracy2 = cross_val_score(estimator2, temp_x, train_y, cv=5).mean()\n",
    "\n",
    "print(\"Random Forest Accuracy: %f\" %accuracy1)\n",
    "print(\"Logistic Regression Accuracy: %f\" %accuracy2)"
   ]
  },
  {
   "cell_type": "markdown",
   "metadata": {},
   "source": [
    "The accuracy has been higher. The ultimate features used in the model are \"Age\", \"Fare\", \"is_alone\", \"Sex\", \"Pclass\", and \"Ticket\"."
   ]
  },
  {
   "cell_type": "markdown",
   "metadata": {},
   "source": [
    "## Result"
   ]
  },
  {
   "cell_type": "code",
   "execution_count": 19,
   "metadata": {},
   "outputs": [],
   "source": [
    "# input the test dataset and preprocess it\n",
    "test_df = pd.read_csv('test.csv')\n",
    "\n",
    "is_alone=[]\n",
    "\n",
    "# check whether the passanger came alone\n",
    "for x in range(len(test_df)):\n",
    "    if test_df.iloc[x,list(test_df.columns).index(\"Parch\")]==0 and test_df.iloc[x,list(test_df.columns).index(\"SibSp\")]==0:\n",
    "        is_alone.append(1)\n",
    "    else:\n",
    "        is_alone.append(0)\n",
    "        \n",
    "test_df[\"is_alone\"]=is_alone\n",
    "\n",
    "test_df['log1p_Fare']=np.log1p(test_df['Fare'])\n",
    "\n",
    "train_x['Ticket'] = LEncoder.fit_transform(train_df['Ticket']) # add Ticket values into our formal training dataset\n",
    "\n",
    "# extract numeric features\n",
    "test_x = test_df[[\"Age\",'log1p_Fare']].copy()\n",
    "imputer = SimpleImputer(strategy = 'median') # replace null with median values\n",
    "imputer.fit(test_x)\n",
    "test_x=imputer.transform(test_x)\n",
    "MMEncoder = MinMaxScaler() \n",
    "test_x = MMEncoder.fit_transform(test_x) # Standardized features\n",
    "test_x = pd.DataFrame(test_x, columns = ['Age','Fare'])\n",
    "\n",
    "# extract categorical features\n",
    "categorical = test_df[['is_alone','Sex','Pclass','Ticket']].copy()\n",
    "categorical['Sex'] = LEncoder.fit_transform(categorical['Sex']) # encoding labels\n",
    "categorical['Ticket'] = LEncoder.fit_transform(categorical['Ticket']) # encoding labels\n",
    "\n",
    "\n",
    "# merge features\n",
    "test_x = pd.concat([test_x,categorical],axis=1)\n",
    "\n",
    "# proceed prediction\n",
    "RFC= RandomForestClassifier()\n",
    "RFC.fit(train_x, train_y)\n",
    "RFC_pred = RFC.predict(test_x)\n"
   ]
  },
  {
   "cell_type": "code",
   "execution_count": 20,
   "metadata": {},
   "outputs": [
    {
     "data": {
      "text/html": [
       "<div>\n",
       "<style scoped>\n",
       "    .dataframe tbody tr th:only-of-type {\n",
       "        vertical-align: middle;\n",
       "    }\n",
       "\n",
       "    .dataframe tbody tr th {\n",
       "        vertical-align: top;\n",
       "    }\n",
       "\n",
       "    .dataframe thead th {\n",
       "        text-align: right;\n",
       "    }\n",
       "</style>\n",
       "<table border=\"1\" class=\"dataframe\">\n",
       "  <thead>\n",
       "    <tr style=\"text-align: right;\">\n",
       "      <th></th>\n",
       "      <th>PassengerId</th>\n",
       "      <th>Survived</th>\n",
       "    </tr>\n",
       "  </thead>\n",
       "  <tbody>\n",
       "    <tr>\n",
       "      <th>0</th>\n",
       "      <td>892</td>\n",
       "      <td>0</td>\n",
       "    </tr>\n",
       "    <tr>\n",
       "      <th>1</th>\n",
       "      <td>893</td>\n",
       "      <td>0</td>\n",
       "    </tr>\n",
       "    <tr>\n",
       "      <th>2</th>\n",
       "      <td>894</td>\n",
       "      <td>0</td>\n",
       "    </tr>\n",
       "    <tr>\n",
       "      <th>3</th>\n",
       "      <td>895</td>\n",
       "      <td>0</td>\n",
       "    </tr>\n",
       "    <tr>\n",
       "      <th>4</th>\n",
       "      <td>896</td>\n",
       "      <td>1</td>\n",
       "    </tr>\n",
       "    <tr>\n",
       "      <th>...</th>\n",
       "      <td>...</td>\n",
       "      <td>...</td>\n",
       "    </tr>\n",
       "    <tr>\n",
       "      <th>413</th>\n",
       "      <td>1305</td>\n",
       "      <td>0</td>\n",
       "    </tr>\n",
       "    <tr>\n",
       "      <th>414</th>\n",
       "      <td>1306</td>\n",
       "      <td>1</td>\n",
       "    </tr>\n",
       "    <tr>\n",
       "      <th>415</th>\n",
       "      <td>1307</td>\n",
       "      <td>0</td>\n",
       "    </tr>\n",
       "    <tr>\n",
       "      <th>416</th>\n",
       "      <td>1308</td>\n",
       "      <td>0</td>\n",
       "    </tr>\n",
       "    <tr>\n",
       "      <th>417</th>\n",
       "      <td>1309</td>\n",
       "      <td>0</td>\n",
       "    </tr>\n",
       "  </tbody>\n",
       "</table>\n",
       "<p>418 rows × 2 columns</p>\n",
       "</div>"
      ],
      "text/plain": [
       "     PassengerId  Survived\n",
       "0            892         0\n",
       "1            893         0\n",
       "2            894         0\n",
       "3            895         0\n",
       "4            896         1\n",
       "..           ...       ...\n",
       "413         1305         0\n",
       "414         1306         1\n",
       "415         1307         0\n",
       "416         1308         0\n",
       "417         1309         0\n",
       "\n",
       "[418 rows x 2 columns]"
      ]
     },
     "execution_count": 20,
     "metadata": {},
     "output_type": "execute_result"
    }
   ],
   "source": [
    "result_df = pd.DataFrame()\n",
    "result_df['PassengerId'] = test_df['PassengerId']\n",
    "result_df['Survived'] = RFC_pred\n",
    "result_df.to_csv('result.csv' , index = False)\n",
    "result_df"
   ]
  },
  {
   "cell_type": "markdown",
   "metadata": {},
   "source": [
    "# Result: Score 0.8 Top 20%"
   ]
  }
 ],
 "metadata": {
  "kernelspec": {
   "display_name": "Python 3",
   "language": "python",
   "name": "python3"
  },
  "language_info": {
   "codemirror_mode": {
    "name": "ipython",
    "version": 3
   },
   "file_extension": ".py",
   "mimetype": "text/x-python",
   "name": "python",
   "nbconvert_exporter": "python",
   "pygments_lexer": "ipython3",
   "version": "3.7.3"
  }
 },
 "nbformat": 4,
 "nbformat_minor": 4
}
